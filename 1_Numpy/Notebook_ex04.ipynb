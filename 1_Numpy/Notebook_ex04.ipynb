{
 "cells": [
  {
   "cell_type": "code",
   "execution_count": 1,
   "metadata": {},
   "outputs": [
    {
     "name": "stdout",
     "output_type": "stream",
     "text": [
      "Task 1: One-dimensional array with a normal distribution:\n",
      "[1.49694352 1.52399574 1.57126197 1.50759565 1.46164979 1.50219435\n",
      " 1.52613721 1.55351756 1.51742763 1.42849395 1.49108187 1.54003305\n",
      " 1.5220534  1.58718513 1.52662242 1.56181846 1.44586323 1.406744\n",
      " 1.49246143 1.45390319 1.60738903 1.4375757  1.48339569 1.51860609\n",
      " 1.48398489 1.47740798 1.50636172 1.47801868 1.42932355 1.33876371\n",
      " 1.37199881 1.52739191 1.44363708 1.46992416 1.48018223 1.51171511\n",
      " 1.52316672 1.46751778 1.48492514 1.50980406 1.61739338 1.61122478\n",
      " 1.70946791 1.56009642 1.43138107 1.51976974 1.52274033 1.51658055\n",
      " 1.58703659 1.49978554 1.48263985 1.74681464 1.59258997 1.49076984\n",
      " 1.61994283 1.39362664 1.58253644 1.64046837 1.53616634 1.48713935\n",
      " 1.40590353 1.46149801 1.40789665 1.4920229  1.4229007  1.5616033\n",
      " 1.53105224 1.43445639 1.59126923 1.52790602 1.48280236 1.34705797\n",
      " 1.61512785 1.52636085 1.5687261  1.49341821 1.45837497 1.4419971\n",
      " 1.40092518 1.64913798 1.62191553 1.5187981  1.55821896 1.45756272\n",
      " 1.63586843 1.60978537 1.54902533 1.4645351  1.49672284 1.41468147\n",
      " 1.61498142 1.49656188 1.50243902 1.46529913 1.59928279 1.58130389\n",
      " 1.57381273 1.65541698 1.42437836 1.53558372]\n",
      "\n",
      "Task 2: Two-dimensional array with random integers from 1 to 10:\n",
      "[[ 9  8  4  6  9  1  3  2]\n",
      " [ 3  9  9  5  4  7  2  8]\n",
      " [ 5  6  9  1  1  6  8  7]\n",
      " [ 7  1  4  1 10  4  3  5]\n",
      " [ 5 10  1 10  7 10  6  1]\n",
      " [ 6  8  7  4  6 10  3  5]\n",
      " [ 4 10  7  9  9 10  9  9]\n",
      " [ 5  3  2 10  8  5  5  3]]\n",
      "\n",
      "Task 3: Three-dimensional array with random integers from 1 to 17:\n",
      "[[[ 5  2 13 16 15]\n",
      "  [ 5  5  2 11  3]]\n",
      "\n",
      " [[ 8 13  6  4 17]\n",
      "  [ 2  8  1 13 10]]\n",
      "\n",
      " [[12 17 17 12  1]\n",
      "  [10  8 17  5 11]]\n",
      "\n",
      " [[ 9 14  2 15 13]\n",
      "  [12 14  6 14  2]]]\n"
     ]
    }
   ],
   "source": [
    "import numpy as np\n",
    "\n",
    "# Set the random seed to 888 for reproducibility\n",
    "np.random.seed(888)\n",
    "\n",
    "# Task 1: Generate a one-dimensional array of size 100 with a normal distribution\n",
    "mean = 1.51\n",
    "std_dev = 0.0741\n",
    "size = 100\n",
    "normal_distribution_data = np.random.normal(mean, std_dev, size)\n",
    "\n",
    "# Task 2: Generate a two-dimensional array of size 8x8 with random integers from 1 to 10 (both included)\n",
    "min_value = 1\n",
    "max_value = 10\n",
    "size = (8, 8)\n",
    "two_dim_array = np.random.randn(100)\n",
    "\n",
    "# Task 3: Generate a three-dimensional array of size 4x2x5 with random integers from 1 to 17 (both included)\n",
    "min_value = 1\n",
    "max_value = 17\n",
    "size = (4, 2, 5)\n",
    "three_dim_array = np.random.randint(min_value, max_value + 1, size)\n",
    "\n",
    "# Print the generated arrays\n",
    "print(\"Task 1: One-dimensional array with a normal distribution:\")\n",
    "print(normal_distribution_data)\n",
    "\n",
    "print(\"\\nTask 2: Two-dimensional array with random integers from 1 to 10:\")\n",
    "print(two_dim_array)\n",
    "\n",
    "print(\"\\nTask 3: Three-dimensional array with random integers from 1 to 17:\")\n",
    "print(three_dim_array)"
   ]
  },
  {
   "cell_type": "code",
   "execution_count": null,
   "metadata": {},
   "outputs": [],
   "source": []
  }
 ],
 "metadata": {
  "kernelspec": {
   "display_name": "Python 3 (ipykernel)",
   "language": "python",
   "name": "python3"
  },
  "language_info": {
   "codemirror_mode": {
    "name": "ipython",
    "version": 3
   },
   "file_extension": ".py",
   "mimetype": "text/x-python",
   "name": "python",
   "nbconvert_exporter": "python",
   "pygments_lexer": "ipython3",
   "version": "3.10.9"
  }
 },
 "nbformat": 4,
 "nbformat_minor": 4
}
