{
 "cells": [
  {
   "cell_type": "code",
   "execution_count": 2,
   "metadata": {},
   "outputs": [
    {
     "name": "stdout",
     "output_type": "stream",
     "text": [
      "[[7.800e+00 8.800e-01 0.000e+00 2.600e+00 9.800e-02 2.500e+01 6.700e+01\n",
      "  9.968e-01 3.200e+00 6.800e-01 9.800e+00 5.000e+00]\n",
      " [7.900e+00 6.000e-01 6.000e-02 1.600e+00 6.900e-02 1.500e+01 5.900e+01\n",
      "  9.964e-01 3.300e+00 4.600e-01 9.400e+00 5.000e+00]\n",
      " [7.500e+00 5.000e-01 3.600e-01 6.100e+00 7.100e-02 1.700e+01 1.020e+02\n",
      "  9.978e-01 3.350e+00 8.000e-01 1.050e+01 5.000e+00]]\n",
      "Any wine with alcohol > 20%: False\n",
      "Average alcohol percentage: 10.42\n",
      "Minimum pH: 2.74\n",
      "Maximum pH: 4.01\n",
      "25th Percentile pH: 3.21\n",
      "50th Percentile (Median) pH: 3.31\n",
      "75th Percentile pH: 3.40\n",
      "Average quality of wines with 20% least sulfates: 5.19\n",
      "Mean variables for wines with the best quality:\n",
      "[ 8.566666    0.4233333   0.39111114  2.5777776   0.06844445 13.277778\n",
      " 33.444443    0.99521226  3.2672222   0.76777774 12.094444  ]\n",
      "Mean variables for wines with the worst quality:\n",
      "[ 8.359999    0.8845      0.17099999  2.6350002   0.12249999 11.\n",
      " 24.9         0.997464    3.398       0.57000005  9.955     ]\n"
     ]
    }
   ],
   "source": [
    "import numpy as np\n",
    "\n",
    "# Load the data and optimize types\n",
    "data = np.genfromtxt('winequality-red.csv', delimiter=';', skip_header=1, dtype=np.float32)\n",
    "\n",
    "# Check the memory size\n",
    "original_memory_size = data.nbytes\n",
    "\n",
    "# Calculate the sum of absolute differences\n",
    "optimized_data = data.astype(np.float32)\n",
    "diff_sum = np.sum(np.abs(data - optimized_data))\n",
    "\n",
    "# Check if the memory size is 76800 bytes and the sum of differences is smaller than 1.10**-3\n",
    "if optimized_data.nbytes == 76800 and diff_sum < 1.10**-3:\n",
    "    print(\"Memory optimization successful.\")\n",
    "\n",
    "# Print the 2nd, 7th, and 12th rows as a 2D array\n",
    "print(optimized_data[[1, 6, 11], :])\n",
    "\n",
    "# Check if any wine has alcohol percentage greater than 20%\n",
    "alcohol_gt_20 = np.any(optimized_data[:, -2] > 20)\n",
    "print(f\"Any wine with alcohol > 20%: {alcohol_gt_20}\")\n",
    "\n",
    "# Calculate the average alcohol percentage, excluding NaN values\n",
    "average_alcohol = np.nanmean(optimized_data[:, -2])\n",
    "print(f\"Average alcohol percentage: {average_alcohol:.2f}\")\n",
    "\n",
    "# Calculate pH statistics\n",
    "ph_data = optimized_data[:, 8]\n",
    "min_ph = np.min(ph_data)\n",
    "max_ph = np.max(ph_data)\n",
    "percentiles = np.percentile(ph_data, [25, 50, 75])\n",
    "median_ph = np.median(ph_data)\n",
    "\n",
    "print(f\"Minimum pH: {min_ph:.2f}\")\n",
    "print(f\"Maximum pH: {max_ph:.2f}\")\n",
    "print(f\"25th Percentile pH: {percentiles[0]:.2f}\")\n",
    "print(f\"50th Percentile (Median) pH: {median_ph:.2f}\")\n",
    "print(f\"75th Percentile pH: {percentiles[2]:.2f}\")\n",
    "\n",
    "# Calculate the average quality of wines with the 20% least sulfates\n",
    "sulfates_data = optimized_data[:, -3]\n",
    "threshold = np.percentile(sulfates_data, 20)\n",
    "average_quality_low_sulfates = np.mean(optimized_data[sulfates_data < threshold, 11])\n",
    "\n",
    "print(f\"Average quality of wines with 20% least sulfates: {average_quality_low_sulfates:.2f}\")\n",
    "\n",
    "# Calculate the mean of all variables for wines with the best and worst quality\n",
    "best_quality = np.max(optimized_data[:, -1])\n",
    "worst_quality = np.min(optimized_data[:, -1])\n",
    "\n",
    "mean_best_quality = np.mean(optimized_data[optimized_data[:, -1] == best_quality, :-1], axis=0)\n",
    "mean_worst_quality = np.mean(optimized_data[optimized_data[:, -1] == worst_quality, :-1], axis=0)\n",
    "\n",
    "print(\"Mean variables for wines with the best quality:\")\n",
    "print(mean_best_quality)\n",
    "\n",
    "print(\"Mean variables for wines with the worst quality:\")\n",
    "print(mean_worst_quality)"
   ]
  },
  {
   "cell_type": "code",
   "execution_count": null,
   "metadata": {},
   "outputs": [],
   "source": []
  }
 ],
 "metadata": {
  "kernelspec": {
   "display_name": "Python 3 (ipykernel)",
   "language": "python",
   "name": "python3"
  },
  "language_info": {
   "codemirror_mode": {
    "name": "ipython",
    "version": 3
   },
   "file_extension": ".py",
   "mimetype": "text/x-python",
   "name": "python",
   "nbconvert_exporter": "python",
   "pygments_lexer": "ipython3",
   "version": "3.10.9"
  }
 },
 "nbformat": 4,
 "nbformat_minor": 4
}
