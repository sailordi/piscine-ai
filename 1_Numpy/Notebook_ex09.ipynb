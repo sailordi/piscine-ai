{
 "cells": [
  {
   "cell_type": "code",
   "execution_count": null,
   "metadata": {},
   "outputs": [],
   "source": [
    "from itertools import permutations\n",
    "import numpy as np\n",
    "\n",
    "# Load the data from the model_forecasts.txt file into a NumPy array\n",
    "score_diff_matrix = np.loadtxt('model_forecasts.txt')\n",
    "\n",
    "# Display the score difference matrix to verify that it has been loaded correctly\n",
    "score_diff_matrix\n",
    "\n",
    "# Generate all permutations of 10 teams\n",
    "all_permutations = list(permutations(range(10)))\n",
    "\n",
    "# Initialize variable to store the minimum sum of squared differences and the best pairing\n",
    "min_sum_squared_diffs = float('inf')\n",
    "best_pairing = None\n",
    "\n",
    "def calculate_sum_squared_diffs(perm):\n",
    "    team_set1 = perm[:5]\n",
    "    team_set2 = perm[5:]\n",
    "    squared_diffs = np.square([score_diff_matrix[i, j] for i, j in zip(team_set1, team_set2)])\n",
    "    return np.sum(squared_diffs), (team_set1, team_set2)\n",
    "\n",
    "# Use map to apply the calculate_sum_squared_diffs function to all permutations\n",
    "results = map(calculate_sum_squared_diffs, all_permutations)\n",
    "\n",
    "# Use min to find the best pairing\n",
    "min_sum_squared_diffs, best_pairing = min(results)\n",
    "\n",
    "result = [list(pair) for pair in zip(best_pairing[0],best_pairing[1])]\n",
    "result_np = np.array(result)\n",
    "\n",
    "# Extract the first and second elements from each sublist\n",
    "first_elements = result_np[:, 0]\n",
    "second_elements = result_np[:, 1]\n",
    "\n",
    "# Construct the wanted_result\n",
    "wanted_result = np.vstack([first_elements, second_elements])    \n",
    "wanted_result"
   ]
  },
  {
   "cell_type": "code",
   "execution_count": null,
   "metadata": {},
   "outputs": [],
   "source": []
  }
 ],
 "metadata": {
  "kernelspec": {
   "display_name": "Python 3 (ipykernel)",
   "language": "python",
   "name": "python3"
  },
  "language_info": {
   "codemirror_mode": {
    "name": "ipython",
    "version": 3
   },
   "file_extension": ".py",
   "mimetype": "text/x-python",
   "name": "python",
   "nbconvert_exporter": "python",
   "pygments_lexer": "ipython3",
   "version": "3.10.9"
  }
 },
 "nbformat": 4,
 "nbformat_minor": 4
}
