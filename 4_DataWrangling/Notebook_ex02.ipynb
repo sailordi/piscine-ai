{
 "cells": [
  {
   "cell_type": "code",
   "execution_count": 5,
   "metadata": {},
   "outputs": [],
   "source": [
    "import pandas as pd\n",
    "\n",
    "#df1\n",
    "\n",
    "df1_dict = {\n",
    "        'id': ['1', '2', '3', '4', '5'],\n",
    "        'Feature1': ['A', 'C', 'E', 'G', 'I'],\n",
    "        'Feature2': ['B', 'D', 'F', 'H', 'J']}\n",
    "\n",
    "df1 = pd.DataFrame(df1_dict, columns = ['id', 'Feature1', 'Feature2'])\n",
    "\n",
    "#df2\n",
    "df2_dict = {\n",
    "        'id': ['1', '2', '6', '7', '8'],\n",
    "        'Feature1': ['K', 'M', 'O', 'Q', 'S'],\n",
    "        'Feature2': ['L', 'N', 'P', 'R', 'T']}\n",
    "\n",
    "df2 = pd.DataFrame(df2_dict, columns = ['id', 'Feature1', 'Feature2'])"
   ]
  },
  {
   "cell_type": "code",
   "execution_count": 6,
   "metadata": {},
   "outputs": [
    {
     "name": "stdout",
     "output_type": "stream",
     "text": [
      "Question 1\n",
      "  id Feature1_x Feature2_x Feature1_y Feature2_y\n",
      "0  1          A          B          K          L\n",
      "1  2          C          D          M          N\n"
     ]
    }
   ],
   "source": [
    "merged_df1 = df1.merge(df2, on='id', how='inner', suffixes=('_x', '_y'))\n",
    "\n",
    "print(\"Question 1\")\n",
    "print(merged_df1)"
   ]
  },
  {
   "cell_type": "code",
   "execution_count": 7,
   "metadata": {},
   "outputs": [
    {
     "name": "stdout",
     "output_type": "stream",
     "text": [
      "Question 2\n",
      "  id Feature1_df1 Feature2_df1 Feature1_df2 Feature2_df2\n",
      "0  1            A            B            K            L\n",
      "1  2            C            D            M            N\n",
      "2  3            E            F          NaN          NaN\n",
      "3  4            G            H          NaN          NaN\n",
      "4  5            I            J          NaN          NaN\n",
      "5  6          NaN          NaN            O            P\n",
      "6  7          NaN          NaN            Q            R\n",
      "7  8          NaN          NaN            S            T\n"
     ]
    }
   ],
   "source": [
    "merged_df2 = pd.merge(df1, df2, on='id', how='outer', suffixes=('_df1', '_df2'))\n",
    "\n",
    "print(\"Question 2\")\n",
    "print(merged_df2)"
   ]
  }
 ],
 "metadata": {
  "kernelspec": {
   "display_name": "Python 3 (ipykernel)",
   "language": "python",
   "name": "python3"
  },
  "language_info": {
   "codemirror_mode": {
    "name": "ipython",
    "version": 3
   },
   "file_extension": ".py",
   "mimetype": "text/x-python",
   "name": "python",
   "nbconvert_exporter": "python",
   "pygments_lexer": "ipython3",
   "version": "3.10.8"
  }
 },
 "nbformat": 4,
 "nbformat_minor": 4
}
