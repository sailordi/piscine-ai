{
 "cells": [
  {
   "cell_type": "code",
   "execution_count": 39,
   "metadata": {},
   "outputs": [],
   "source": [
    "import numpy as np\n",
    "import pandas as pd\n",
    "\n",
    "#generate days\n",
    "all_dates = pd.date_range('2021-01-01', '2021-12-15')\n",
    "business_dates = pd.bdate_range('2021-01-01', '2021-12-31')\n",
    "\n",
    "#generate tickers\n",
    "tickers = ['AAPL', 'FB', 'GE', 'AMZN', 'DAI']\n",
    "\n",
    "#create indexs\n",
    "index_alt = pd.MultiIndex.from_product([all_dates, tickers], names=['Date', 'Ticker'])\n",
    "index = pd.MultiIndex.from_product([business_dates, tickers], names=['Date', 'Ticker'])\n",
    "\n",
    "# create DFs\n",
    "market_data = pd.DataFrame(index=index,\n",
    "                        data=np.random.randn(len(index), 3),\n",
    "                        columns=['Open','Close','Close_Adjusted'])\n",
    "\n",
    "alternative_data = pd.DataFrame(index=index_alt,\n",
    "                                data=np.random.randn(len(index_alt), 2),\n",
    "                                columns=['Twitter','Reddit'])"
   ]
  },
  {
   "cell_type": "code",
   "execution_count": 40,
   "metadata": {},
   "outputs": [
    {
     "name": "stdout",
     "output_type": "stream",
     "text": [
      "Question 1\n",
      "Shape:  (1305, 5)\n",
      "                       Open     Close  Close_Adjusted   Twitter    Reddit\n",
      "Date       Ticker                                                        \n",
      "2021-01-01 AAPL   -1.080672 -1.206899        0.104534 -0.881619  0.504006\n",
      "           FB     -0.190652 -2.737099        0.774925 -0.786921 -0.695762\n",
      "           GE      0.341531  2.084229        2.007163 -0.648083 -0.112623\n",
      "           AMZN   -0.109023  1.019213       -0.020232  1.352178  0.213563\n",
      "           DAI     1.876690 -2.317401       -0.055927  0.218049 -0.010903\n"
     ]
    }
   ],
   "source": [
    "merged_df = market_data.merge(alternative_data,how='left',left_index=True,right_index=True)\n",
    "print(\"Question 1\")\n",
    "print(\"Shape: \",merged_df.shape  )\n",
    "print(merged_df.head() )"
   ]
  },
  {
   "cell_type": "code",
   "execution_count": 41,
   "metadata": {},
   "outputs": [
    {
     "name": "stdout",
     "output_type": "stream",
     "text": [
      "Question 2\n",
      "True\n"
     ]
    }
   ],
   "source": [
    "filled_df = market_data.merge(alternative_data,how='left',left_index=True,right_index=True)\n",
    "filled_df.fillna(0, inplace=True)\n",
    "\n",
    "print(\"Question 2\")\n",
    "print(filled_df.sum().sum() == merged_df.sum().sum())\n"
   ]
  }
 ],
 "metadata": {
  "kernelspec": {
   "display_name": "Python 3 (ipykernel)",
   "language": "python",
   "name": "python3"
  },
  "language_info": {
   "codemirror_mode": {
    "name": "ipython",
    "version": 3
   },
   "file_extension": ".py",
   "mimetype": "text/x-python",
   "name": "python",
   "nbconvert_exporter": "python",
   "pygments_lexer": "ipython3",
   "version": "3.10.8"
  }
 },
 "nbformat": 4,
 "nbformat_minor": 4
}
