{
 "cells": [
  {
   "cell_type": "code",
   "execution_count": 58,
   "metadata": {},
   "outputs": [],
   "source": [
    "import numpy as np\n",
    "import pandas as pd\n",
    "\n",
    "def winsorize(df, quantiles):\n",
    "    min_value = np.quantile(df, quantiles[0])\n",
    "    max_value = np.quantile(df, quantiles[1])\n",
    "\n",
    "    return df.clip(lower = min_value, upper = max_value)\n",
    "\n",
    "df = pd.DataFrame(range(1,11), columns=['sequence'])"
   ]
  },
  {
   "cell_type": "code",
   "execution_count": 59,
   "metadata": {},
   "outputs": [
    {
     "name": "stdout",
     "output_type": "stream",
     "text": [
      "Question 1\n",
      "|    |   sequence |\n",
      "|---:|-----------:|\n",
      "|  0 |        2.8 |\n",
      "|  1 |        2.8 |\n",
      "|  2 |        3   |\n",
      "|  3 |        4   |\n",
      "|  4 |        5   |\n",
      "|  5 |        6   |\n",
      "|  6 |        7   |\n",
      "|  7 |        8   |\n",
      "|  8 |        8.2 |\n",
      "|  9 |        8.2 |\n"
     ]
    }
   ],
   "source": [
    "print(\"Question 1\")\n",
    "print(winsorize(df,[0.20, 0.80]).to_markdown())"
   ]
  },
  {
   "cell_type": "code",
   "execution_count": 60,
   "metadata": {},
   "outputs": [
    {
     "name": "stdout",
     "output_type": "stream",
     "text": [
      "Question 2\n",
      "    sequence\n",
      "0       1.45\n",
      "1       2.00\n",
      "2       3.00\n",
      "3       4.00\n",
      "4       5.00\n",
      "5       6.00\n",
      "6       7.00\n",
      "7       8.00\n",
      "8       9.00\n",
      "9       9.55\n",
      "10     11.45\n"
     ]
    }
   ],
   "source": [
    "groups = np.concatenate([np.ones(10), np.ones(10)+1,  np.ones(10)+2, np.ones(10)+3, np.ones(10)+4])\n",
    "\n",
    "df = pd.DataFrame(data= zip(groups,range(1,51)),columns=[\"group\", \"sequence\"])\n",
    "\n",
    "result_df = df.groupby(\"group\")[['sequence']].apply(winsorize, [0.05,0.95])\n",
    "result_df = result_df.reset_index(drop=True) \n",
    "\n",
    "print(\"Question 2\")\n",
    "print(result_df.head(11))"
   ]
  }
 ],
 "metadata": {
  "kernelspec": {
   "display_name": "Python 3 (ipykernel)",
   "language": "python",
   "name": "python3"
  },
  "language_info": {
   "codemirror_mode": {
    "name": "ipython",
    "version": 3
   },
   "file_extension": ".py",
   "mimetype": "text/x-python",
   "name": "python",
   "nbconvert_exporter": "python",
   "pygments_lexer": "ipython3",
   "version": "3.10.8"
  }
 },
 "nbformat": 4,
 "nbformat_minor": 4
}
