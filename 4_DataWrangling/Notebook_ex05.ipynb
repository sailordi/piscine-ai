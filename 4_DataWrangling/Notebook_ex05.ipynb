{
 "cells": [
  {
   "cell_type": "code",
   "execution_count": 17,
   "metadata": {},
   "outputs": [],
   "source": [
    "import pandas as pd\n",
    "\n",
    "data = {'value': [20.45, 22.89, 32.12, 111.22, 33.22, 100, 99.99],\n",
    "        'product': ['table', 'chair', 'chair', 'mobile phone', 'table', 'mobile phone', 'table']}\n",
    "\n",
    "df = pd.DataFrame(data)"
   ]
  },
  {
   "cell_type": "code",
   "execution_count": 18,
   "metadata": {},
   "outputs": [
    {
     "name": "stdout",
     "output_type": "stream",
     "text": [
      "Question 1\n",
      "              (value, min)  (value, max)  (value, mean)\n",
      "product                                                \n",
      "chair                22.89         32.12         27.505\n",
      "mobile phone        100.00        111.22        105.610\n",
      "table                20.45         99.99         51.220\n"
     ]
    }
   ],
   "source": [
    "result_df = df.groupby('product')['value'].agg([('min', 'min'), ('max', 'max'), ('mean', 'mean')]).reset_index()\n",
    "result_df = result_df.rename(columns={'min': ('value', 'min'), 'max': ('value', 'max'), 'mean': ('value', 'mean')})\n",
    "result_df = result_df.set_index('product')\n",
    "\n",
    "print(\"Question 1\")\n",
    "print(result_df)"
   ]
  }
 ],
 "metadata": {
  "kernelspec": {
   "display_name": "Python 3 (ipykernel)",
   "language": "python",
   "name": "python3"
  },
  "language_info": {
   "codemirror_mode": {
    "name": "ipython",
    "version": 3
   },
   "file_extension": ".py",
   "mimetype": "text/x-python",
   "name": "python",
   "nbconvert_exporter": "python",
   "pygments_lexer": "ipython3",
   "version": "3.10.8"
  }
 },
 "nbformat": 4,
 "nbformat_minor": 4
}
