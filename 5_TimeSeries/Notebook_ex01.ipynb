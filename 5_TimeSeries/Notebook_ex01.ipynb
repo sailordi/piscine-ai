{
 "cells": [
  {
   "cell_type": "code",
   "execution_count": 19,
   "metadata": {},
   "outputs": [],
   "source": [
    "import pandas as pd\n",
    "import numpy as np\n",
    "\n",
    "start_date = '2010-01-01'\n",
    "end_date = '2020-12-31'\n",
    "index = pd.date_range(start=start_date, end=end_date, freq='D')\n",
    "\n",
    "integer_series = pd.Series(range(len(index)), index=index)"
   ]
  },
  {
   "cell_type": "code",
   "execution_count": 20,
   "metadata": {},
   "outputs": [
    {
     "name": "stdout",
     "output_type": "stream",
     "text": [
      "Question 1\n",
      "2010-01-01       0\n",
      "2010-01-02       1\n",
      "2010-01-03       2\n",
      "2010-01-04       3\n",
      "2010-01-05       4\n",
      "              ... \n",
      "2020-12-27    4013\n",
      "2020-12-28    4014\n",
      "2020-12-29    4015\n",
      "2020-12-30    4016\n",
      "2020-12-31    4017\n",
      "Freq: D, Length: 4018, dtype: int64\n"
     ]
    }
   ],
   "source": [
    "print(\"Question 1\")\n",
    "print(integer_series)"
   ]
  },
  {
   "cell_type": "code",
   "execution_count": 21,
   "metadata": {},
   "outputs": [
    {
     "name": "stdout",
     "output_type": "stream",
     "text": [
      "Question 2\n",
      "2010-01-01       NaN\n",
      "2010-01-02       NaN\n",
      "2010-01-03       NaN\n",
      "2010-01-04       NaN\n",
      "2010-01-05       NaN\n",
      "               ...  \n",
      "2020-12-27    4010.0\n",
      "2020-12-28    4011.0\n",
      "2020-12-29    4012.0\n",
      "2020-12-30    4013.0\n",
      "2020-12-31    4014.0\n",
      "Freq: D, Length: 4018, dtype: float64\n"
     ]
    }
   ],
   "source": [
    "moving_average = integer_series.rolling(window=7).mean()\n",
    "\n",
    "print(\"Question 2\")\n",
    "print(moving_average)"
   ]
  }
 ],
 "metadata": {
  "kernelspec": {
   "display_name": "Python 3 (ipykernel)",
   "language": "python",
   "name": "python3"
  },
  "language_info": {
   "codemirror_mode": {
    "name": "ipython",
    "version": 3
   },
   "file_extension": ".py",
   "mimetype": "text/x-python",
   "name": "python",
   "nbconvert_exporter": "python",
   "pygments_lexer": "ipython3",
   "version": "3.10.8"
  }
 },
 "nbformat": 4,
 "nbformat_minor": 4
}
