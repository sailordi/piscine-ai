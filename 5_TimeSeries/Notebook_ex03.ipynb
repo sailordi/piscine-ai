{
 "cells": [
  {
   "cell_type": "code",
   "execution_count": 14,
   "metadata": {},
   "outputs": [],
   "source": [
    "import numpy as np\n",
    "import pandas as pd\n",
    "\n",
    "business_dates = pd.bdate_range('2021-01-01', '2021-12-31')\n",
    "\n",
    "#generate tickers\n",
    "tickers = ['AAPL', 'FB', 'GE', 'AMZN', 'DAI']\n",
    "\n",
    "#create indexs\n",
    "index = pd.MultiIndex.from_product([business_dates, tickers], names=['Date', 'Ticker'])\n",
    "\n",
    "# create DFs\n",
    "market_data = pd.DataFrame(index=index,\n",
    "                        data=np.random.randn(len(index), 1),\n",
    "                        columns=['Price'])"
   ]
  },
  {
   "cell_type": "code",
   "execution_count": 15,
   "metadata": {},
   "outputs": [
    {
     "name": "stdout",
     "output_type": "stream",
     "text": [
      "Question 1\n",
      "(261, 5)\n",
      "Ticker          AAPL      AMZN       DAI        FB        GE\n",
      "Date                                                        \n",
      "2021-01-01       NaN       NaN       NaN       NaN       NaN\n",
      "2021-01-04 -1.206906 -1.416589 -3.370195 -2.148968 -2.328210\n",
      "2021-01-05 -5.246736 -4.120922 -1.479667 -0.210144 -1.411557\n"
     ]
    }
   ],
   "source": [
    "# Calculate the daily returns for each ticker\n",
    "daily_returns = market_data.groupby('Ticker')['Price'].pct_change()\n",
    "\n",
    "# Reshape the data to have tickers as columns\n",
    "daily_returns = daily_returns.unstack()\n",
    "\n",
    "print(\"Question 1\")\n",
    "# Print the resulting DataFrame\n",
    "print(daily_returns.shape)\n",
    "print(daily_returns.head(3) )"
   ]
  }
 ],
 "metadata": {
  "kernelspec": {
   "display_name": "Python 3 (ipykernel)",
   "language": "python",
   "name": "python3"
  },
  "language_info": {
   "codemirror_mode": {
    "name": "ipython",
    "version": 3
   },
   "file_extension": ".py",
   "mimetype": "text/x-python",
   "name": "python",
   "nbconvert_exporter": "python",
   "pygments_lexer": "ipython3",
   "version": "3.10.8"
  }
 },
 "nbformat": 4,
 "nbformat_minor": 4
}
