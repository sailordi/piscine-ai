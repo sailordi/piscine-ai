{
 "cells": [
  {
   "cell_type": "code",
   "execution_count": 7,
   "metadata": {},
   "outputs": [
    {
     "name": "stdout",
     "output_type": "stream",
     "text": [
      "https://raw.githubusercontent.com/01-edu/public/master/subjects/ai/backtesting-sp500/data/sp500.csv\n",
      "sp500.csv\n",
      "--2023-10-23 12:47:47--  https://raw.githubusercontent.com/01-edu/public/master/subjects/ai/backtesting-sp500/data/sp500.csv\n",
      "Resolving raw.githubusercontent.com (raw.githubusercontent.com)... 185.199.109.133, 185.199.110.133, 185.199.111.133, ...\n",
      "Connecting to raw.githubusercontent.com (raw.githubusercontent.com)|185.199.109.133|:443... connected.\n",
      "HTTP request sent, awaiting response... 200 OK\n",
      "Length: 307659 (300K) [text/plain]\n",
      "Saving to: ‘data/sp500.csv’\n",
      "\n",
      "sp500.csv           100%[===================>] 300.45K  --.-KB/s    in 0.03s   \n",
      "\n",
      "2023-10-23 12:47:48 (8.71 MB/s) - ‘data/sp500.csv’ saved [307659/307659]\n",
      "\n",
      "https://raw.githubusercontent.com/01-edu/public/master/subjects/ai/backtesting-sp500/data/stock_prices.csv\n",
      "stock_prices.csv\n",
      "--2023-10-23 12:47:48--  https://raw.githubusercontent.com/01-edu/public/master/subjects/ai/backtesting-sp500/data/stock_prices.csv\n",
      "Resolving raw.githubusercontent.com (raw.githubusercontent.com)... 185.199.109.133, 185.199.110.133, 185.199.111.133, ...\n",
      "Connecting to raw.githubusercontent.com (raw.githubusercontent.com)|185.199.109.133|:443... connected.\n",
      "HTTP request sent, awaiting response... 200 OK\n",
      "Length: 26721857 (25M) [text/plain]\n",
      "Saving to: ‘data/stock_prices.csv’\n",
      "\n",
      "stock_prices.csv    100%[===================>]  25.48M  8.71MB/s    in 2.9s    \n",
      "\n",
      "2023-10-23 12:47:53 (8.71 MB/s) - ‘data/stock_prices.csv’ saved [26721857/26721857]\n",
      "\n",
      "            Date          A         AA  ...    ZLC         ZMH  ZNGA\n",
      "0     2000-12-12  38.407538  24.494157  ...  13.19         NaN   NaN\n",
      "1     2000-12-13  39.038160  25.323023  ...  12.81         NaN   NaN\n",
      "2     2000-12-14  39.749286  24.594860  ...  12.94         NaN   NaN\n",
      "3     2000-12-15  38.159315  23.967401  ...  12.47         NaN   NaN\n",
      "4     2000-12-18  38.239820  25.028660  ...  12.25         NaN   NaN\n",
      "...          ...        ...        ...  ...    ...         ...   ...\n",
      "3639  2014-12-23  41.268254  15.730000  ...    NaN  113.251655  2.72\n",
      "3640  2014-12-24  41.028844  15.770000  ...    NaN  114.110000  2.71\n",
      "3641  2014-12-26  41.278229  15.820000  ...    NaN  114.170000  2.67\n",
      "3642  2014-12-29  41.228352        NaN  ...    NaN  113.500000   NaN\n",
      "3643  2014-12-30  41.268254  15.850000  ...    NaN  114.570000  2.72\n",
      "\n",
      "[3644 rows x 544 columns]\n",
      "            Date         Open  ...        Volume  Adjusted Close\n",
      "0     2014-12-26  2084.300049  ...  1.735230e+09     2088.770020\n",
      "1     2014-12-24  2083.250000  ...  1.416980e+09     2081.879883\n",
      "2     2014-12-23  2081.479980  ...  3.043950e+09     2082.169922\n",
      "3     2014-12-22  2069.280029  ...  3.369520e+09     2078.540039\n",
      "4     2014-12-19  2061.040039  ...  6.465530e+09     2070.649902\n",
      "...          ...          ...  ...           ...             ...\n",
      "3765  2000-01-07  1403.449951  ...  1.225200e+09     1441.469971\n",
      "3766  2000-01-06  1402.109985  ...  1.092300e+09     1403.449951\n",
      "3767  2000-01-05  1399.420044  ...  1.085500e+09     1402.109985\n",
      "3768  2000-01-04  1455.219971  ...  1.009000e+09     1399.420044\n",
      "3769  2000-01-03  1469.250000  ...  9.318000e+08     1455.219971\n",
      "\n",
      "[3770 rows x 7 columns]\n"
     ]
    }
   ],
   "source": [
    "!python ../scripts/main.py"
   ]
  },
  {
   "cell_type": "code",
   "execution_count": null,
   "metadata": {},
   "outputs": [],
   "source": []
  }
 ],
 "metadata": {
  "kernelspec": {
   "display_name": "Python 3 (ipykernel)",
   "language": "python",
   "name": "python3"
  },
  "language_info": {
   "codemirror_mode": {
    "name": "ipython",
    "version": 3
   },
   "file_extension": ".py",
   "mimetype": "text/x-python",
   "name": "python",
   "nbconvert_exporter": "python",
   "pygments_lexer": "ipython3",
   "version": "3.10.9"
  }
 },
 "nbformat": 4,
 "nbformat_minor": 4
}
