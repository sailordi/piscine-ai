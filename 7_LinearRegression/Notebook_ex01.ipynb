{
 "cells": [
  {
   "cell_type": "code",
   "execution_count": 16,
   "metadata": {},
   "outputs": [
    {
     "name": "stdout",
     "output_type": "stream",
     "text": [
      "X array\n",
      "[[1], [2.1], [3]]\n",
      "y array\n",
      "[[1], [2], [3]]\n"
     ]
    }
   ],
   "source": [
    "import pandas as pd\n",
    "import numpy as np\n",
    "from sklearn.linear_model import LinearRegression\n",
    "\n",
    "X, y = [[1],[2.1],[3]], [[1],[2],[3]]\n",
    "\n",
    "model = LinearRegression()\n",
    "model.fit(X, y)\n",
    "\n",
    "print(\"X array\")\n",
    "print(X)\n",
    "print(\"y array\")\n",
    "print(y)"
   ]
  },
  {
   "cell_type": "code",
   "execution_count": 17,
   "metadata": {},
   "outputs": [
    {
     "name": "stdout",
     "output_type": "stream",
     "text": [
      "Question 1\n",
      "[[3.96013289]]\n"
     ]
    }
   ],
   "source": [
    "x_pred = np.array([[4]])\n",
    "prediction = model.predict(x_pred)\n",
    "\n",
    "print(\"Question 1\")\n",
    "print(prediction)"
   ]
  },
  {
   "cell_type": "code",
   "execution_count": 18,
   "metadata": {},
   "outputs": [
    {
     "name": "stdout",
     "output_type": "stream",
     "text": [
      "Question 2\n",
      "Coefficients:  [[0.99667774]]\n",
      "Intercept:  [-0.02657807]\n",
      "Score:  0.9966777408637874\n"
     ]
    }
   ],
   "source": [
    " print(\"Question 2\")\n",
    "# Print the coefficients\n",
    "print(\"Coefficients: \", model.coef_)\n",
    "# Print the intercept\n",
    "print(\"Intercept: \", model.intercept_)\n",
    "# Predict the target for the entire dataset\n",
    "y_pred = model.predict(X)\n",
    "# Compute the score (R^2)\n",
    "score = model.score(X, y)\n",
    "# Print the score\n",
    "print(\"Score: \", score)"
   ]
  }
 ],
 "metadata": {
  "kernelspec": {
   "display_name": "Python 3 (ipykernel)",
   "language": "python",
   "name": "python3"
  },
  "language_info": {
   "codemirror_mode": {
    "name": "ipython",
    "version": 3
   },
   "file_extension": ".py",
   "mimetype": "text/x-python",
   "name": "python",
   "nbconvert_exporter": "python",
   "pygments_lexer": "ipython3",
   "version": "3.10.9"
  }
 },
 "nbformat": 4,
 "nbformat_minor": 4
}
