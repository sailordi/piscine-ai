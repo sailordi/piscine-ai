{
 "cells": [
  {
   "cell_type": "code",
   "execution_count": 3,
   "metadata": {},
   "outputs": [
    {
     "name": "stdout",
     "output_type": "stream",
     "text": [
      "X_train:\n",
      " [[ 1  2]\n",
      " [ 3  4]\n",
      " [ 5  6]\n",
      " [ 7  8]\n",
      " [ 9 10]\n",
      " [11 12]\n",
      " [13 14]\n",
      " [15 16]]\n",
      "\n",
      "y_train:\n",
      " [1 2 3 4 5 6 7 8]\n",
      "\n",
      "X_test:\n",
      " [[17 18]\n",
      " [19 20]]\n",
      "\n",
      "y_test:\n",
      " [ 9 10]\n"
     ]
    }
   ],
   "source": [
    "from sklearn.datasets import make_regression\n",
    "import numpy as np\n",
    "\n",
    "from sklearn.model_selection import train_test_split\n",
    "\n",
    "# Your data\n",
    "X = np.arange(1,21).reshape(10,-1)\n",
    "y = np.arange(1,11)\n",
    "\n",
    "# Split the data\n",
    "X_train, X_test, y_train, y_test = train_test_split(X, y, test_size=0.2, shuffle=False)\n",
    "\n",
    "# Print the training and testing data\n",
    "print(\"X_train:\\n\", X_train)\n",
    "print(\"\\ny_train:\\n\", y_train)\n",
    "print(\"\\nX_test:\\n\", X_test)\n",
    "print(\"\\ny_test:\\n\", y_test)"
   ]
  }
 ],
 "metadata": {
  "kernelspec": {
   "display_name": "Python 3 (ipykernel)",
   "language": "python",
   "name": "python3"
  },
  "language_info": {
   "codemirror_mode": {
    "name": "ipython",
    "version": 3
   },
   "file_extension": ".py",
   "mimetype": "text/x-python",
   "name": "python",
   "nbconvert_exporter": "python",
   "pygments_lexer": "ipython3",
   "version": "3.10.9"
  }
 },
 "nbformat": 4,
 "nbformat_minor": 4
}
