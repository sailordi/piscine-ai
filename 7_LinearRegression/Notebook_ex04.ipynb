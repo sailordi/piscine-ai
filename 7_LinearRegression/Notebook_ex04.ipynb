{
 "cells": [
  {
   "cell_type": "code",
   "execution_count": 131,
   "metadata": {},
   "outputs": [],
   "source": [
    "from sklearn.linear_model import LinearRegression\n",
    "from sklearn.datasets import load_diabetes\n",
    "from sklearn.model_selection import train_test_split\n",
    "from sklearn.metrics import mean_squared_error\n",
    "import matplotlib.pyplot as plt\n",
    "import pandas as pd\n",
    "\n",
    "diabetes = load_diabetes()\n",
    "X, y = diabetes.data, diabetes.target"
   ]
  },
  {
   "cell_type": "code",
   "execution_count": 132,
   "metadata": {},
   "outputs": [
    {
     "name": "stdout",
     "output_type": "stream",
     "text": [
      "Question 1\n",
      "\n",
      "y_train.values[:10]:\n",
      " [[202.]\n",
      " [ 55.]\n",
      " [202.]\n",
      " [ 42.]\n",
      " [214.]\n",
      " [173.]\n",
      " [118.]\n",
      " [ 90.]\n",
      " [129.]\n",
      " [151.]]\n",
      "\n",
      "y_test.values[:10]:\n",
      " [[ 71.]\n",
      " [ 72.]\n",
      " [235.]\n",
      " [277.]\n",
      " [109.]\n",
      " [ 61.]\n",
      " [109.]\n",
      " [ 78.]\n",
      " [ 66.]\n",
      " [192.]]\n"
     ]
    }
   ],
   "source": [
    "# Split the dataset into a training set and a test set\n",
    "X_train, X_test, y_train, y_test = train_test_split(X, y, test_size=0.2, random_state=43)\n",
    "\n",
    "# Convert it to series to be able to use y_train.values and y_test.values\n",
    "y_train = pd.DataFrame(y_train)\n",
    "y_test = pd.DataFrame(y_test)\n",
    "\n",
    "print(\"Question 1\\n\")\n",
    "print(\"y_train.values[:10]:\\n\",y_train.values[:10])\n",
    "print(\"\\ny_test.values[:10]:\\n\",y_test.values[:10])"
   ]
  },
  {
   "cell_type": "code",
   "execution_count": 133,
   "metadata": {},
   "outputs": [
    {
     "name": "stdout",
     "output_type": "stream",
     "text": [
      "Question 2\n"
     ]
    },
    {
     "data": {
      "text/plain": [
       "[('age', -60.39984809333582),\n",
       " ('sex', -226.0835904426916),\n",
       " ('bmi', 529.3849571887334),\n",
       " ('bp', 259.961994121421),\n",
       " ('s1', -859.0930093348002),\n",
       " ('s2', 504.6869733896173),\n",
       " ('s3', 157.41085788032728),\n",
       " ('s4', 226.29313435521095),\n",
       " ('s5', 840.7840406049215),\n",
       " ('s6', 34.712265555717494),\n",
       " ('intercept', 152.0532454782767)]"
      ]
     },
     "execution_count": 133,
     "metadata": {},
     "output_type": "execute_result"
    }
   ],
   "source": [
    "diabetes = load_diabetes()\n",
    "X, y = diabetes.data, diabetes.target\n",
    "\n",
    "# Split the dataset into a training set and a test set\n",
    "X_train, X_test, y_train, y_test = train_test_split(X, y, test_size=0.2, random_state=43)\n",
    "\n",
    "# Create a Linear Regression model\n",
    "model = LinearRegression()\n",
    "# Fit the model on the training data\n",
    "model.fit(X_train, y_train)\n",
    "# Get the coefficients\n",
    "coefficients = model.coef_\n",
    "# Get the intercept\n",
    "intercept = model.intercept_\n",
    "\n",
    "output = list(zip(diabetes.feature_names,coefficients) )\n",
    "\n",
    "print(\"Question 2\")\n",
    "# Print the coefficients and the intercept\n",
    "output = output+[('intercept',intercept)]\n",
    "output"
   ]
  },
  {
   "cell_type": "markdown",
   "metadata": {},
   "source": [
    "The equation of the Linear Regression model will be:\n",
    "\n",
    "```\n",
    "y = intercept + coefficients[0]×Feature1 + coefficients[1]×Feature2 + … + coefficients[9]×Feature10\n",
    "```"
   ]
  },
  {
   "cell_type": "code",
   "execution_count": 134,
   "metadata": {},
   "outputs": [
    {
     "name": "stdout",
     "output_type": "stream",
     "text": [
      "Question 3\n",
      "[111.74267934  98.41608992 168.36714629 255.06351455 168.44138847\n",
      " 117.60698984 198.8733865  126.2932775  117.72876579 224.82776308]\n"
     ]
    }
   ],
   "source": [
    "# Make predictions on the test set\n",
    "predictions_on_test = model.predict(X_test)\n",
    "\n",
    "print(\"Question 3\")\n",
    "print(predictions_on_test[:10])"
   ]
  },
  {
   "cell_type": "code",
   "execution_count": 135,
   "metadata": {},
   "outputs": [
    {
     "name": "stdout",
     "output_type": "stream",
     "text": [
      "Question 4\n",
      "Train mse:  2888.324598377127\n",
      "Test mse:  2858.2915057597875\n"
     ]
    }
   ],
   "source": [
    "mse_train = mean_squared_error(y_train, model.predict(X_train))\n",
    "mse_test = mean_squared_error(y_test, predictions_on_test)\n",
    "\n",
    "print(\"Question 4\")\n",
    "print(\"Train mse: \",mse_train)\n",
    "print(\"Test mse: \",mse_test)"
   ]
  }
 ],
 "metadata": {
  "kernelspec": {
   "display_name": "Python 3 (ipykernel)",
   "language": "python",
   "name": "python3"
  },
  "language_info": {
   "codemirror_mode": {
    "name": "ipython",
    "version": 3
   },
   "file_extension": ".py",
   "mimetype": "text/x-python",
   "name": "python",
   "nbconvert_exporter": "python",
   "pygments_lexer": "ipython3",
   "version": "3.10.9"
  }
 },
 "nbformat": 4,
 "nbformat_minor": 4
}
