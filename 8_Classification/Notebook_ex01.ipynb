{
 "cells": [
  {
   "cell_type": "code",
   "execution_count": 21,
   "metadata": {},
   "outputs": [],
   "source": [
    "from sklearn.linear_model import LogisticRegression\n",
    "import numpy as np\n",
    "\n",
    "X = [[0],[0.1],[0.2], [1],[1.1],[1.2], [1.3]]\n",
    "y = [0,0,0,1,1,1,0]"
   ]
  },
  {
   "cell_type": "code",
   "execution_count": 22,
   "metadata": {},
   "outputs": [
    {
     "name": "stdout",
     "output_type": "stream",
     "text": [
      "Question 1\n",
      "0\n"
     ]
    }
   ],
   "source": [
    "model = LogisticRegression()\n",
    "model.fit(X, y)\n",
    "\n",
    "x_pred = np.array([[0.5]])\n",
    "y_pred = model.predict(x_pred)\n",
    "\n",
    "print(\"Question 1\")\n",
    "print(y_pred[0])"
   ]
  },
  {
   "cell_type": "code",
   "execution_count": 23,
   "metadata": {},
   "outputs": [
    {
     "name": "stdout",
     "output_type": "stream",
     "text": [
      "Question 2\n",
      "[0.61450526 0.38549474]\n"
     ]
    }
   ],
   "source": [
    "probs = model.predict_proba(x_pred)\n",
    "\n",
    "print(\"Question 2\")\n",
    "print(probs[0])"
   ]
  },
  {
   "cell_type": "code",
   "execution_count": 24,
   "metadata": {},
   "outputs": [
    {
     "name": "stdout",
     "output_type": "stream",
     "text": [
      "Question 3\n",
      "Coefficients:\n",
      " [[0.81786797]]\n",
      "Intercept:\n",
      " [-0.87522391]\n",
      "Score:\n",
      " 0.7142857142857143\n"
     ]
    }
   ],
   "source": [
    "print(\"Question 3\")\n",
    "print(\"Coefficients:\\n\", model.coef_)\n",
    "print(\"Intercept:\\n\", model.intercept_)\n",
    "print(\"Score:\\n\", model.score(X, y))"
   ]
  }
 ],
 "metadata": {
  "kernelspec": {
   "display_name": "Python 3 (ipykernel)",
   "language": "python",
   "name": "python3"
  },
  "language_info": {
   "codemirror_mode": {
    "name": "ipython",
    "version": 3
   },
   "file_extension": ".py",
   "mimetype": "text/x-python",
   "name": "python",
   "nbconvert_exporter": "python",
   "pygments_lexer": "ipython3",
   "version": "3.10.9"
  }
 },
 "nbformat": 4,
 "nbformat_minor": 4
}
