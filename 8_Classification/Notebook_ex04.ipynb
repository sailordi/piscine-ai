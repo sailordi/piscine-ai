{
 "cells": [
  {
   "cell_type": "code",
   "execution_count": 2,
   "metadata": {},
   "outputs": [
    {
     "name": "stdout",
     "output_type": "stream",
     "text": [
      "Question 1\n",
      "\n",
      "X_train:\n",
      " [[ 1  2]\n",
      " [ 3  4]\n",
      " [ 5  6]\n",
      " [ 7  8]\n",
      " [ 9 10]\n",
      " [11 12]\n",
      " [13 14]\n",
      " [15 16]] \n",
      "\n",
      "\n",
      "y_train:\n",
      " [0. 0. 0. 0. 0. 0. 0. 1.] \n",
      "\n",
      "\n",
      "X_test:\n",
      " [[17 18]\n",
      " [19 20]] \n",
      "\n",
      "\n",
      "y_test:\n",
      " [1. 1.]\n"
     ]
    }
   ],
   "source": [
    "from sklearn.model_selection import train_test_split\n",
    "import numpy as np\n",
    "\n",
    "# First dataset\n",
    "X = np.arange(1, 21).reshape(10, -1)\n",
    "y = np.zeros(10)\n",
    "y[7:] = 1\n",
    "\n",
    "# Split the data using train_test_split with shuffle=False\n",
    "X_train, X_test, y_train, y_test = train_test_split(X, y, test_size=0.2, shuffle=False)\n",
    "\n",
    "print(\"Question 1\")\n",
    "print(\"\\nX_train:\\n\", X_train, \"\\n\\n\\ny_train:\\n\", y_train, \"\\n\\n\\nX_test:\\n\", X_test, \"\\n\\n\\ny_test:\\n\", y_test)"
   ]
  },
  {
   "cell_type": "code",
   "execution_count": 3,
   "metadata": {},
   "outputs": [],
   "source": [
    "# Generate the second dataset\n",
    "X = np.arange(1, 201).reshape(100, -1)\n",
    "y = np.zeros(100)\n",
    "y[70:] = 1\n",
    "\n",
    "# Split the data using train_test_split with stratify parameter\n",
    "X_train_strat, X_test_strat, y_train_strat, y_test_strat = train_test_split(X, y, test_size=0.2, stratify=y)\n",
    "\n",
    "# Compute the proportion of class 1 in the stratified training and test sets\n",
    "prop_class_1_train_strat = np.sum(y_train_strat == 1) / len(y_train_strat)\n",
    "prop_class_1_test_strat = np.sum(y_test_strat == 1) / len(y_test_strat)"
   ]
  },
  {
   "cell_type": "code",
   "execution_count": 4,
   "metadata": {},
   "outputs": [
    {
     "data": {
      "text/plain": [
       "(0.3, 0.3)"
      ]
     },
     "execution_count": 4,
     "metadata": {},
     "output_type": "execute_result"
    }
   ],
   "source": [
    "prop_class_1_train_strat, prop_class_1_test_strat"
   ]
  }
 ],
 "metadata": {
  "kernelspec": {
   "display_name": "Python 3 (ipykernel)",
   "language": "python",
   "name": "python3"
  },
  "language_info": {
   "codemirror_mode": {
    "name": "ipython",
    "version": 3
   },
   "file_extension": ".py",
   "mimetype": "text/x-python",
   "name": "python",
   "nbconvert_exporter": "python",
   "pygments_lexer": "ipython3",
   "version": "3.10.9"
  }
 },
 "nbformat": 4,
 "nbformat_minor": 4
}
