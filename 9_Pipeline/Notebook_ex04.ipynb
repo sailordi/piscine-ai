{
 "cells": [
  {
   "cell_type": "code",
   "execution_count": 13,
   "metadata": {},
   "outputs": [],
   "source": [
    "from sklearn.preprocessing import OrdinalEncoder\n",
    "import pandas as pd\n",
    "\n",
    "X_train = [['good'], ['bad'], ['neutral']]"
   ]
  },
  {
   "cell_type": "code",
   "execution_count": 14,
   "metadata": {},
   "outputs": [
    {
     "name": "stdout",
     "output_type": "stream",
     "text": [
      "Question 1\n",
      "\n",
      "[[2.]\n",
      " [0.]\n",
      " [1.]] \n",
      "\n",
      "[array(['bad', 'neutral', 'good'], dtype=object)]\n"
     ]
    }
   ],
   "source": [
    "custom_order = [['bad', 'neutral', 'good']]\n",
    "\n",
    "# Create an instance of the OrdinalEncoder with the custom order\n",
    "encoder = OrdinalEncoder(categories=custom_order)\n",
    "# Fit the encoder on your training data\n",
    "encoder.fit(X_train)\n",
    "\n",
    "# Transform the X_train dataset\n",
    "X_train_encoded = encoder.transform(X_train)\n",
    "\n",
    "print(\"Question 1\\n\")\n",
    "print(X_train_encoded,\"\\n\")\n",
    "print(encoder.categories_)"
   ]
  },
  {
   "cell_type": "code",
   "execution_count": 15,
   "metadata": {},
   "outputs": [],
   "source": [
    "X_test = [['good'], ['good'], ['bad']]"
   ]
  },
  {
   "cell_type": "code",
   "execution_count": 16,
   "metadata": {},
   "outputs": [
    {
     "name": "stdout",
     "output_type": "stream",
     "text": [
      "Question 2\n",
      "\n",
      "[[2.]\n",
      " [2.]\n",
      " [0.]]\n"
     ]
    }
   ],
   "source": [
    "X_test_encoded = encoder.transform(X_test)\n",
    "\n",
    "print(\"Question 2\\n\")\n",
    "print(X_test_encoded)"
   ]
  }
 ],
 "metadata": {
  "kernelspec": {
   "display_name": "Python 3 (ipykernel)",
   "language": "python",
   "name": "python3"
  },
  "language_info": {
   "codemirror_mode": {
    "name": "ipython",
    "version": 3
   },
   "file_extension": ".py",
   "mimetype": "text/x-python",
   "name": "python",
   "nbconvert_exporter": "python",
   "pygments_lexer": "ipython3",
   "version": "3.10.9"
  }
 },
 "nbformat": 4,
 "nbformat_minor": 4
}
