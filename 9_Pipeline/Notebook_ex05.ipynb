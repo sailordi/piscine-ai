{
 "cells": [
  {
   "cell_type": "code",
   "execution_count": 147,
   "metadata": {},
   "outputs": [
    {
     "name": "stdout",
     "output_type": "stream",
     "text": [
      "data/breast-cancer.csv already exists.\n"
     ]
    }
   ],
   "source": [
    "import os\n",
    "import pandas as pd\n",
    "import numpy as np\n",
    "from sklearn.model_selection import train_test_split\n",
    "from sklearn.preprocessing import OrdinalEncoder, LabelEncoder, OneHotEncoder\n",
    "from sklearn.compose import make_column_transformer\n",
    "\n",
    "folder = 'data'\n",
    "file_data = folder+'/breast-cancer.csv'\n",
    "\n",
    "# Check if foder exists\n",
    "if not os.path.exists(folder):\n",
    "    os.makedirs(folder)\n",
    "    \n",
    "# Check if the file exists\n",
    "if not os.path.exists(file_data):\n",
    "    # If the file doesn't exist, download it\n",
    "    ! wget -P ./data https://raw.githubusercontent.com/01-edu/public/master/subjects/ai/pipeline/data/breast-cancer.csv\n",
    "else:\n",
    "    print(f\"{file_data} already exists.\")\n"
   ]
  },
  {
   "cell_type": "code",
   "execution_count": 148,
   "metadata": {},
   "outputs": [
    {
     "data": {
      "text/html": [
       "<div>\n",
       "<style scoped>\n",
       "    .dataframe tbody tr th:only-of-type {\n",
       "        vertical-align: middle;\n",
       "    }\n",
       "\n",
       "    .dataframe tbody tr th {\n",
       "        vertical-align: top;\n",
       "    }\n",
       "\n",
       "    .dataframe thead th {\n",
       "        text-align: right;\n",
       "    }\n",
       "</style>\n",
       "<table border=\"1\" class=\"dataframe\">\n",
       "  <thead>\n",
       "    <tr style=\"text-align: right;\">\n",
       "      <th></th>\n",
       "      <th>40-49</th>\n",
       "      <th>premeno</th>\n",
       "      <th>15-19</th>\n",
       "      <th>0-2</th>\n",
       "      <th>yes</th>\n",
       "      <th>3</th>\n",
       "      <th>right</th>\n",
       "      <th>left_up</th>\n",
       "      <th>no</th>\n",
       "      <th>recurrence-events</th>\n",
       "    </tr>\n",
       "  </thead>\n",
       "  <tbody>\n",
       "    <tr>\n",
       "      <th>0</th>\n",
       "      <td>50-59</td>\n",
       "      <td>ge40</td>\n",
       "      <td>15-19</td>\n",
       "      <td>0-2</td>\n",
       "      <td>no</td>\n",
       "      <td>1</td>\n",
       "      <td>right</td>\n",
       "      <td>central</td>\n",
       "      <td>no</td>\n",
       "      <td>no-recurrence-events</td>\n",
       "    </tr>\n",
       "    <tr>\n",
       "      <th>1</th>\n",
       "      <td>50-59</td>\n",
       "      <td>ge40</td>\n",
       "      <td>35-39</td>\n",
       "      <td>0-2</td>\n",
       "      <td>no</td>\n",
       "      <td>2</td>\n",
       "      <td>left</td>\n",
       "      <td>left_low</td>\n",
       "      <td>no</td>\n",
       "      <td>recurrence-events</td>\n",
       "    </tr>\n",
       "    <tr>\n",
       "      <th>2</th>\n",
       "      <td>40-49</td>\n",
       "      <td>premeno</td>\n",
       "      <td>35-39</td>\n",
       "      <td>0-2</td>\n",
       "      <td>yes</td>\n",
       "      <td>3</td>\n",
       "      <td>right</td>\n",
       "      <td>left_low</td>\n",
       "      <td>yes</td>\n",
       "      <td>no-recurrence-events</td>\n",
       "    </tr>\n",
       "    <tr>\n",
       "      <th>3</th>\n",
       "      <td>40-49</td>\n",
       "      <td>premeno</td>\n",
       "      <td>30-34</td>\n",
       "      <td>3-5</td>\n",
       "      <td>yes</td>\n",
       "      <td>2</td>\n",
       "      <td>left</td>\n",
       "      <td>right_up</td>\n",
       "      <td>no</td>\n",
       "      <td>recurrence-events</td>\n",
       "    </tr>\n",
       "    <tr>\n",
       "      <th>4</th>\n",
       "      <td>50-59</td>\n",
       "      <td>premeno</td>\n",
       "      <td>25-29</td>\n",
       "      <td>3-5</td>\n",
       "      <td>no</td>\n",
       "      <td>2</td>\n",
       "      <td>right</td>\n",
       "      <td>left_up</td>\n",
       "      <td>yes</td>\n",
       "      <td>no-recurrence-events</td>\n",
       "    </tr>\n",
       "  </tbody>\n",
       "</table>\n",
       "</div>"
      ],
      "text/plain": [
       "   40-49  premeno  15-19  0-2  yes  3  right   left_up   no  \\\n",
       "0  50-59     ge40  15-19  0-2   no  1  right   central   no   \n",
       "1  50-59     ge40  35-39  0-2   no  2   left  left_low   no   \n",
       "2  40-49  premeno  35-39  0-2  yes  3  right  left_low  yes   \n",
       "3  40-49  premeno  30-34  3-5  yes  2   left  right_up   no   \n",
       "4  50-59  premeno  25-29  3-5   no  2  right   left_up  yes   \n",
       "\n",
       "      recurrence-events  \n",
       "0  no-recurrence-events  \n",
       "1     recurrence-events  \n",
       "2  no-recurrence-events  \n",
       "3     recurrence-events  \n",
       "4  no-recurrence-events  "
      ]
     },
     "execution_count": 148,
     "metadata": {},
     "output_type": "execute_result"
    }
   ],
   "source": [
    "# Load the breast-cancer.csv file\n",
    "df = pd.read_csv(file_data)\n",
    "\n",
    "df.head()"
   ]
  },
  {
   "cell_type": "code",
   "execution_count": 149,
   "metadata": {},
   "outputs": [],
   "source": [
    "# Define column names\n",
    "column_names = ['age', 'menopause', 'tumor-size', 'inv-nodes', 'node-caps', \n",
    "                'deg-malig', 'breast', 'breast-quad', 'irradiat', 'Class']\n",
    "\n",
    "# Reload the dataset with column names\n",
    "df = pd.read_csv(file_data, names=column_names)"
   ]
  },
  {
   "cell_type": "code",
   "execution_count": 150,
   "metadata": {},
   "outputs": [],
   "source": [
    "# Drop the \"Class\" column\n",
    "df = df.drop(columns=['Class'])\n",
    "# Drop NaN values\n",
    "df = df.dropna()\n",
    "# Split the data into training and test sets\n",
    "X_train, X_test = train_test_split(df, test_size=0.2, random_state=43)"
   ]
  },
  {
   "cell_type": "code",
   "execution_count": 151,
   "metadata": {},
   "outputs": [
    {
     "name": "stdout",
     "output_type": "stream",
     "text": [
      "Question 1\n"
     ]
    },
    {
     "data": {
      "text/plain": [
       "age             6\n",
       "menopause       3\n",
       "tumor-size     11\n",
       "inv-nodes       6\n",
       "node-caps       2\n",
       "deg-malig       3\n",
       "breast          2\n",
       "breast-quad     5\n",
       "irradiat        2\n",
       "dtype: int64"
      ]
     },
     "execution_count": 151,
     "metadata": {},
     "output_type": "execute_result"
    }
   ],
   "source": [
    "unique_values_per_feature = X_train.nunique()\n",
    "\n",
    "print(\"Question 1\")\n",
    "unique_values_per_feature"
   ]
  },
  {
   "cell_type": "code",
   "execution_count": 152,
   "metadata": {},
   "outputs": [],
   "source": [
    "# Define the ordinal, nominal, and target variables based on the assumptions\n",
    "ordinal_features = ['age', 'menopause', 'tumor-size', 'inv-nodes', 'deg-malig']\n",
    "nominal_features = ['node-caps', 'breast', 'breast-quad', 'irradiat']\n",
    "target_variable = 'your_target_variable_name'  # Replace with the actual target variable name\n",
    "# Select the nominal features for OHE\n",
    "ohe_cols = ['node-caps', 'breast', 'breast-quad', 'irradiat']"
   ]
  },
  {
   "cell_type": "code",
   "execution_count": 153,
   "metadata": {},
   "outputs": [
    {
     "name": "stdout",
     "output_type": "stream",
     "text": [
      "Question 2\n",
      "input: ohe.transform(X_test[ohe_cols])[:10]\n",
      "output:\n",
      " [[0. 0. 1. 0. 0. 0. 0.]\n",
      " [0. 0. 1. 0. 0. 0. 0.]\n",
      " [1. 0. 1. 0. 0. 0. 1.]\n",
      " [1. 0. 1. 0. 0. 0. 1.]\n",
      " [0. 0. 0. 1. 0. 0. 0.]\n",
      " [0. 0. 0. 0. 1. 0. 0.]\n",
      " [0. 1. 0. 0. 0. 1. 0.]\n",
      " [0. 1. 1. 0. 0. 0. 0.]\n",
      " [0. 0. 0. 0. 1. 0. 1.]\n",
      " [0. 1. 1. 0. 0. 0. 0.]]\n",
      "\n",
      "input: ohe.get_feature_names(ohe_cols)\n",
      "output:\n",
      " ['node-caps_yes' 'breast_right' 'breast-quad_left_low'\n",
      " 'breast-quad_left_up' 'breast-quad_right_low' 'breast-quad_right_up'\n",
      " 'irradiat_yes']\n"
     ]
    }
   ],
   "source": [
    "# Create an instance of OneHotEncoder\n",
    "ohe = OneHotEncoder(sparse_output=False, drop='first')  # drop the first category in each feature to avoid multicollinearity\n",
    "\n",
    "# Fit One Hot Encoder on the train set\n",
    "ohe.fit(X_train[ohe_cols])\n",
    "\n",
    "# Transform the test set using the fitted encoder\n",
    "X_test_encoded = ohe.transform(X_test[ohe_cols])\n",
    "\n",
    "# Get the feature names after encoding\n",
    "encoded_feature_names = ohe.get_feature_names_out(ohe_cols)\n",
    "\n",
    "print(\"Question 2\")\n",
    "# Print the transformed test set and feature names\n",
    "print(\"input: ohe.transform(X_test[ohe_cols])[:10]\")\n",
    "print(\"output:\\n\", X_test_encoded[:10])\n",
    "print(\"\\ninput: ohe.get_feature_names(ohe_cols)\")\n",
    "print(\"output:\\n\", encoded_feature_names)"
   ]
  },
  {
   "cell_type": "code",
   "execution_count": 154,
   "metadata": {},
   "outputs": [
    {
     "data": {
      "text/plain": [
       "array([[0., 0., 1., 0., 0., 0., 0., 2., 5., 2., 0., 1.],\n",
       "       [0., 0., 1., 0., 0., 0., 0., 2., 5., 2., 0., 0.]])"
      ]
     },
     "execution_count": 154,
     "metadata": {},
     "output_type": "execute_result"
    }
   ],
   "source": [
    "# Create a column transformer that combines the One Hot and Ordinal encoders\n",
    "column_transformer = make_column_transformer(\n",
    "    (ohe, ohe_cols),\n",
    "    (oe, ordinal_cols),\n",
    "    remainder='passthrough'\n",
    ")\n",
    "\n",
    "# Fit the column transformer on the training data\n",
    "column_transformer.fit(X_train)\n",
    "\n",
    "# Transform the test data\n",
    "transformed_test_data = column_transformer.transform(X_test)\n",
    "\n",
    "# Show the first 2 rows of the transformed test data\n",
    "transformed_test_data[:2]"
   ]
  }
 ],
 "metadata": {
  "kernelspec": {
   "display_name": "Python 3 (ipykernel)",
   "language": "python",
   "name": "python3"
  },
  "language_info": {
   "codemirror_mode": {
    "name": "ipython",
    "version": 3
   },
   "file_extension": ".py",
   "mimetype": "text/x-python",
   "name": "python",
   "nbconvert_exporter": "python",
   "pygments_lexer": "ipython3",
   "version": "3.10.9"
  }
 },
 "nbformat": 4,
 "nbformat_minor": 4
}
