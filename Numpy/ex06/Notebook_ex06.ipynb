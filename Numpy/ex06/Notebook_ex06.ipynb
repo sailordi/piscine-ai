{
 "cells": [
  {
   "cell_type": "code",
   "execution_count": 4,
   "metadata": {
    "scrolled": true
   },
   "outputs": [
    {
     "name": "stdout",
     "output_type": "stream",
     "text": [
      "[[1 1 1 1 1 1 1 1 1]\n",
      " [1 1 1 1 1 1 1 1 1]\n",
      " [1 1 1 1 1 1 1 1 1]\n",
      " [1 1 1 1 1 1 1 1 1]\n",
      " [1 1 1 1 1 1 1 1 1]\n",
      " [1 1 1 1 1 1 1 1 1]\n",
      " [1 1 1 1 1 1 1 1 1]\n",
      " [1 1 1 1 1 1 1 1 1]\n",
      " [1 1 1 1 1 1 1 1 1]] \n",
      "\n",
      "[[1 1 1 1 1 1 1 1 1]\n",
      " [1 0 0 0 0 0 0 0 1]\n",
      " [1 0 1 1 1 1 1 0 1]\n",
      " [1 0 1 0 0 0 0 0 1]\n",
      " [1 0 1 1 0 1 0 0 1]\n",
      " [1 0 1 1 1 1 1 0 1]\n",
      " [1 0 1 0 0 0 1 0 1]\n",
      " [1 0 1 1 1 1 1 0 1]\n",
      " [1 1 1 1 1 1 1 1 1]] \n",
      "\n"
     ]
    }
   ],
   "source": [
    "import numpy as np\n",
    "\n",
    "arr = np.ones((9, 9), dtype=np.int8)\n",
    "\n",
    "print(arr,\"\\n\")\n",
    "\n",
    "arr[1:-1, 1:-1] = 0\n",
    "arr[2, 2:7] = 1\n",
    "arr[3, 2] = 1\n",
    "arr[4, 2:4] = 1\n",
    "arr[4, 5] = 1\n",
    "arr[5, 2:7] = 1\n",
    "arr[6, 2] = 1\n",
    "arr[6, 6] = 1\n",
    "arr[7, 2:7] = 1\n",
    "\n",
    "print(arr,\"\\n\")"
   ]
  },
  {
   "cell_type": "code",
   "execution_count": null,
   "metadata": {},
   "outputs": [],
   "source": []
  }
 ],
 "metadata": {
  "kernelspec": {
   "display_name": "Python 3 (ipykernel)",
   "language": "python",
   "name": "python3"
  },
  "language_info": {
   "codemirror_mode": {
    "name": "ipython",
    "version": 3
   },
   "file_extension": ".py",
   "mimetype": "text/x-python",
   "name": "python",
   "nbconvert_exporter": "python",
   "pygments_lexer": "ipython3",
   "version": "3.10.9"
  }
 },
 "nbformat": 4,
 "nbformat_minor": 4
}
