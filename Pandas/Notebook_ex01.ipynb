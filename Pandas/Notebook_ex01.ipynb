{
 "cells": [
  {
   "cell_type": "code",
   "execution_count": 15,
   "metadata": {},
   "outputs": [
    {
     "name": "stdout",
     "output_type": "stream",
     "text": [
      "   color     list number\n",
      "1   Blue   [1, 2]    1.1\n",
      "3    Red   [3, 4]    2.2\n",
      "5   Pink   [5, 6]    3.3\n",
      "7   Grey   [7, 8]    4.4\n",
      "9  Black  [9, 10]    5.5 \n",
      "\n",
      "   color     list  number\n",
      "0   Blue   [1, 2]     1.1\n",
      "1    Red   [3, 4]     2.2\n",
      "2   Pink   [5, 6]     3.3\n",
      "3   Grey   [7, 8]     4.4\n",
      "4  Black  [9, 10]     5.5\n"
     ]
    }
   ],
   "source": [
    "import numpy as np\n",
    "import pandas as pd\n",
    "\n",
    "custom_index = [1, 3, 5, 7, 9]  # You can specify any custom index here\n",
    "data = np.array([['Blue', [1, 2], 1.1],\n",
    "                 ['Red', [3, 4], 2.2],\n",
    "                 ['Pink', [5, 6], 3.3],\n",
    "                 ['Grey', [7, 8], 4.4],\n",
    "                 ['Black', [9, 10], 5.5]], dtype=object)\n",
    "\n",
    "number_series = pd.Series([1.1, 2.2, 3.3, 4.4, 5.5])\n",
    "color_series = pd.Series(['Blue', 'Red', 'Pink', 'Grey', 'Black'])\n",
    "list_series = pd.Series([[1, 2], [3, 4], [5, 6], [7, 8], [9, 10]])\n",
    "\n",
    "dfNp = pd.DataFrame(data, columns=['color', 'list','number'])\n",
    "dfNp.index = custom_index\n",
    "\n",
    "dfPd = pd.DataFrame({'color': color_series,\n",
    "                     'list': list_series,\n",
    "                     'number': number_series\n",
    "                   })\n",
    "dfPd.index = custom_index\n",
    "\n",
    "print(dfNp,\"\\n\")\n",
    "print(dfPd)"
   ]
  },
  {
   "cell_type": "code",
   "execution_count": null,
   "metadata": {},
   "outputs": [],
   "source": []
  }
 ],
 "metadata": {
  "kernelspec": {
   "display_name": "Python 3 (ipykernel)",
   "language": "python",
   "name": "python3"
  },
  "language_info": {
   "codemirror_mode": {
    "name": "ipython",
    "version": 3
   },
   "file_extension": ".py",
   "mimetype": "text/x-python",
   "name": "python",
   "nbconvert_exporter": "python",
   "pygments_lexer": "ipython3",
   "version": "3.10.9"
  }
 },
 "nbformat": 4,
 "nbformat_minor": 4
}
