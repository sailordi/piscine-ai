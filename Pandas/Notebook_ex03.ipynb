{
 "cells": [
  {
   "cell_type": "code",
   "execution_count": 648,
   "metadata": {},
   "outputs": [
    {
     "name": "stdout",
     "output_type": "stream",
     "text": [
      "data/Ecommerce_purchases.txt already exists.\n"
     ]
    }
   ],
   "source": [
    "import os\n",
    "\n",
    "folder = 'data'\n",
    "file_to_download = folder+'/Ecommerce_purchases.txt'\n",
    "\n",
    "# Check if foder exists\n",
    "if not os.path.exists(folder):\n",
    "    os.makedirs(folder)\n",
    "    \n",
    "# Check if the file exists\n",
    "if not os.path.exists(file_to_download):\n",
    "    # If the file doesn't exist, download it\n",
    "    ! wget -P ./data https://raw.githubusercontent.com/01-edu/public/master/subjects/ai/pandas/data/Ecommerce_purchases.txt\n",
    "else:\n",
    "    print(f\"{file_to_download} already exists.\")"
   ]
  },
  {
   "cell_type": "code",
   "execution_count": 649,
   "metadata": {},
   "outputs": [],
   "source": [
    "import numpy as np\n",
    "import pandas as pd\n",
    "\n",
    "# Read the dataset\n",
    "df = pd.read_csv(\"data/Ecommerce_purchases.txt\",sep=',',low_memory=False)"
   ]
  },
  {
   "cell_type": "code",
   "execution_count": 650,
   "metadata": {},
   "outputs": [
    {
     "name": "stdout",
     "output_type": "stream",
     "text": [
      "Question 1\n",
      "Number of rows: 10000\n",
      "Number of columns: 14\n"
     ]
    }
   ],
   "source": [
    "# Get the number of rows and columns\n",
    "num_rows = df.shape[0]  # Number of rows\n",
    "num_columns = df.shape[1]  # Number of columns\n",
    "\n",
    "print(\"Question 1\")\n",
    "print(f\"Number of rows: {num_rows}\")\n",
    "print(f\"Number of columns: {num_columns}\")"
   ]
  },
  {
   "cell_type": "code",
   "execution_count": 651,
   "metadata": {},
   "outputs": [
    {
     "name": "stdout",
     "output_type": "stream",
     "text": [
      "Question 2\n",
      "50.347302\n"
     ]
    }
   ],
   "source": [
    "average_pP = df['Purchase Price'].mean()\n",
    "\n",
    "print(\"Question 2\")\n",
    "print(average_pP)"
   ]
  },
  {
   "cell_type": "code",
   "execution_count": 652,
   "metadata": {},
   "outputs": [
    {
     "name": "stdout",
     "output_type": "stream",
     "text": [
      "Question 3\n",
      "MAx:  99.99\n",
      "Min:  0.0\n"
     ]
    }
   ],
   "source": [
    "max_pP = df['Purchase Price'].max()\n",
    "min_pP = df['Purchase Price'].min()\n",
    "print(\"Question 3\")\n",
    "print(\"MAx: \",max_pP)\n",
    "print(\"Min: \",min_pP)"
   ]
  },
  {
   "cell_type": "code",
   "execution_count": 653,
   "metadata": {},
   "outputs": [
    {
     "name": "stdout",
     "output_type": "stream",
     "text": [
      "Question 4\n",
      "1098\n"
     ]
    }
   ],
   "source": [
    "en_count = (df['Language']=='en').sum().sum()\n",
    "print(\"Question 4\")\n",
    "print(en_count)"
   ]
  },
  {
   "cell_type": "code",
   "execution_count": 654,
   "metadata": {},
   "outputs": [
    {
     "name": "stdout",
     "output_type": "stream",
     "text": [
      "Question 5\n",
      "30\n"
     ]
    }
   ],
   "source": [
    "lawyers_count = (df['Job'] == 'Lawyer').sum().sum()\n",
    "print(\"Question 5\")\n",
    "print(lawyers_count)"
   ]
  },
  {
   "cell_type": "code",
   "execution_count": 655,
   "metadata": {},
   "outputs": [
    {
     "name": "stdout",
     "output_type": "stream",
     "text": [
      "Question 6\n",
      "Am:  4932\n",
      "Pm:  5068\n"
     ]
    }
   ],
   "source": [
    "pm_count = (df['AM or PM'] == 'PM').sum().sum()\n",
    "am_count = (df['AM or PM'] == 'AM').sum().sum()\n",
    "\n",
    "print(\"Question 6\")\n",
    "print(\"Am: \",am_count)\n",
    "print(\"Pm: \",pm_count)"
   ]
  },
  {
   "cell_type": "code",
   "execution_count": 656,
   "metadata": {},
   "outputs": [
    {
     "name": "stdout",
     "output_type": "stream",
     "text": [
      "Question 7\n"
     ]
    },
    {
     "data": {
      "text/plain": [
       "Job\n",
       "Interior and spatial designer    31\n",
       "Lawyer                           30\n",
       "Social researcher                28\n",
       "Purchasing manager               27\n",
       "Designer, jewellery              27\n",
       "Name: count, dtype: int64"
      ]
     },
     "execution_count": 656,
     "metadata": {},
     "output_type": "execute_result"
    }
   ],
   "source": [
    "common_jobs =  df['Job'].value_counts().head(5)\n",
    "print(\"Question 7\")\n",
    "common_jobs"
   ]
  },
  {
   "cell_type": "code",
   "execution_count": 657,
   "metadata": {},
   "outputs": [
    {
     "name": "stdout",
     "output_type": "stream",
     "text": [
      "Question 8\n",
      "75.1\n"
     ]
    }
   ],
   "source": [
    "lot = df.loc[df['Lot'] == '90 WT']\n",
    "lot_purches_price = lot['Purchase Price'].values[0]\n",
    "print(\"Question 8\")\n",
    "print(lot_purches_price)"
   ]
  },
  {
   "cell_type": "code",
   "execution_count": 658,
   "metadata": {},
   "outputs": [
    {
     "name": "stdout",
     "output_type": "stream",
     "text": [
      "Question 9\n",
      "bondellen@williams-garza.com\n"
     ]
    }
   ],
   "source": [
    "print(\"Question 9\")\n",
    "card_person = df.loc[df['Credit Card'] == 4926535242672853]\n",
    "card_email = card_person[\"Email\"].values[0]\n",
    "print(card_email )"
   ]
  },
  {
   "cell_type": "code",
   "execution_count": 659,
   "metadata": {},
   "outputs": [
    {
     "name": "stdout",
     "output_type": "stream",
     "text": [
      "Question 10\n",
      "39\n"
     ]
    }
   ],
   "source": [
    "cardInfo = df[(df['CC Provider'] == 'American Express') & (df['Purchase Price'] > 95)].shape[0]\n",
    "print(\"Question 10\")\n",
    "print(cardInfo)"
   ]
  },
  {
   "cell_type": "code",
   "execution_count": 660,
   "metadata": {},
   "outputs": [
    {
     "name": "stdout",
     "output_type": "stream",
     "text": [
      "Question 11\n",
      "1033\n"
     ]
    }
   ],
   "source": [
    "print(\"Question 11\")\n",
    "expires = sum(df['CC Exp Date'].apply(lambda x: x[-2:]) == '25')\n",
    "print(expires)"
   ]
  },
  {
   "cell_type": "code",
   "execution_count": 661,
   "metadata": {},
   "outputs": [
    {
     "name": "stdout",
     "output_type": "stream",
     "text": [
      "Question 12\n",
      "domain\n",
      "hotmail.com     1638\n",
      "yahoo.com       1616\n",
      "gmail.com       1605\n",
      "smith.com         42\n",
      "williams.com      37\n",
      "Name: count, dtype: int64\n"
     ]
    }
   ],
   "source": [
    "# use a lambda function to extract the domain name from each email address\n",
    "df['domain'] = df['Email'].apply(lambda x: x.split('@')[1])\n",
    "\n",
    "# count the frequency of each unique domain name\n",
    "domain_counts = df['domain'].value_counts()\n",
    "\n",
    "# select the top 5 most frequent domain names\n",
    "top_domains = domain_counts.head(5)\n",
    "print(\"Question 12\")\n",
    "print(top_domains)"
   ]
  }
 ],
 "metadata": {
  "kernelspec": {
   "display_name": "Python 3 (ipykernel)",
   "language": "python",
   "name": "python3"
  },
  "language_info": {
   "codemirror_mode": {
    "name": "ipython",
    "version": 3
   },
   "file_extension": ".py",
   "mimetype": "text/x-python",
   "name": "python",
   "nbconvert_exporter": "python",
   "pygments_lexer": "ipython3",
   "version": "3.10.9"
  }
 },
 "nbformat": 4,
 "nbformat_minor": 4
}
