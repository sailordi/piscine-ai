{
 "cells": [
  {
   "cell_type": "code",
   "execution_count": 37,
   "metadata": {
    "scrolled": true
   },
   "outputs": [],
   "source": [
    "import numpy as np\n",
    "import pandas as pd\n",
    "\n",
    "# Read the dataset\n",
    "df = pd.read_csv(\"household_power_consumption.txt\",sep=';',low_memory=False)# Read the dataset\n",
    "\n",
    "# Delete the columns 'Time', 'Sub_metering_2', and 'Sub_metering_3'\n",
    "df.drop(['Time', 'Sub_metering_2', 'Sub_metering_3'], axis=1, inplace=True)\n",
    "\n",
    "def update_types(df):\n",
    "        df['Global_active_power'] = pd.to_numeric(df['Global_active_power'], errors='coerce')\n",
    "        df['Global_reactive_power'] = pd.to_numeric(df['Global_reactive_power'], errors='coerce')\n",
    "        df['Voltage'] = pd.to_numeric(df['Voltage'], errors='coerce')\n",
    "        df['Global_intensity'] = pd.to_numeric(df['Global_intensity'], errors='coerce')\n",
    "        df['Sub_metering_1'] = pd.to_numeric(df['Sub_metering_1'], errors='coerce')\n",
    "    \n",
    "        return df;"
   ]
  },
  {
   "cell_type": "code",
   "execution_count": 38,
   "metadata": {
    "scrolled": true
   },
   "outputs": [],
   "source": [
    "#df['Date'] = pd.to_datetime(df['Date'], format='%d/%m/%Y')\n",
    "\n",
    "# Set 'Date' as the index\n",
    "df = df.set_index('Date')"
   ]
  },
  {
   "cell_type": "code",
   "execution_count": 39,
   "metadata": {},
   "outputs": [
    {
     "data": {
      "text/plain": [
       "Index(['16/12/2006', '16/12/2006', '16/12/2006', '16/12/2006', '16/12/2006'], dtype='object', name='Date')"
      ]
     },
     "execution_count": 39,
     "metadata": {},
     "output_type": "execute_result"
    }
   ],
   "source": [
    "df.head().index"
   ]
  },
  {
   "cell_type": "code",
   "execution_count": 40,
   "metadata": {},
   "outputs": [
    {
     "data": {
      "text/plain": [
       "Global_active_power      float64\n",
       "Global_reactive_power    float64\n",
       "Voltage                  float64\n",
       "Global_intensity         float64\n",
       "Sub_metering_1           float64\n",
       "dtype: object"
      ]
     },
     "execution_count": 40,
     "metadata": {},
     "output_type": "execute_result"
    }
   ],
   "source": [
    "df = update_types(df)\n",
    "df.dtypes"
   ]
  },
  {
   "cell_type": "code",
   "execution_count": 41,
   "metadata": {},
   "outputs": [
    {
     "data": {
      "text/html": [
       "<div>\n",
       "<style scoped>\n",
       "    .dataframe tbody tr th:only-of-type {\n",
       "        vertical-align: middle;\n",
       "    }\n",
       "\n",
       "    .dataframe tbody tr th {\n",
       "        vertical-align: top;\n",
       "    }\n",
       "\n",
       "    .dataframe thead th {\n",
       "        text-align: right;\n",
       "    }\n",
       "</style>\n",
       "<table border=\"1\" class=\"dataframe\">\n",
       "  <thead>\n",
       "    <tr style=\"text-align: right;\">\n",
       "      <th></th>\n",
       "      <th>Global_active_power</th>\n",
       "      <th>Global_reactive_power</th>\n",
       "      <th>Voltage</th>\n",
       "      <th>Global_intensity</th>\n",
       "      <th>Sub_metering_1</th>\n",
       "    </tr>\n",
       "  </thead>\n",
       "  <tbody>\n",
       "    <tr>\n",
       "      <th>count</th>\n",
       "      <td>137504.000000</td>\n",
       "      <td>137504.000000</td>\n",
       "      <td>137504.000000</td>\n",
       "      <td>137504.000000</td>\n",
       "      <td>137504.000000</td>\n",
       "    </tr>\n",
       "    <tr>\n",
       "      <th>mean</th>\n",
       "      <td>1.497897</td>\n",
       "      <td>0.121903</td>\n",
       "      <td>240.787739</td>\n",
       "      <td>6.332201</td>\n",
       "      <td>1.277752</td>\n",
       "    </tr>\n",
       "    <tr>\n",
       "      <th>std</th>\n",
       "      <td>1.330325</td>\n",
       "      <td>0.114189</td>\n",
       "      <td>3.302877</td>\n",
       "      <td>5.617184</td>\n",
       "      <td>6.573751</td>\n",
       "    </tr>\n",
       "    <tr>\n",
       "      <th>min</th>\n",
       "      <td>0.194000</td>\n",
       "      <td>0.000000</td>\n",
       "      <td>223.490000</td>\n",
       "      <td>0.800000</td>\n",
       "      <td>0.000000</td>\n",
       "    </tr>\n",
       "    <tr>\n",
       "      <th>25%</th>\n",
       "      <td>0.334000</td>\n",
       "      <td>0.000000</td>\n",
       "      <td>238.670000</td>\n",
       "      <td>1.400000</td>\n",
       "      <td>0.000000</td>\n",
       "    </tr>\n",
       "    <tr>\n",
       "      <th>50%</th>\n",
       "      <td>1.328000</td>\n",
       "      <td>0.108000</td>\n",
       "      <td>241.020000</td>\n",
       "      <td>5.400000</td>\n",
       "      <td>0.000000</td>\n",
       "    </tr>\n",
       "    <tr>\n",
       "      <th>75%</th>\n",
       "      <td>2.310000</td>\n",
       "      <td>0.188000</td>\n",
       "      <td>243.070000</td>\n",
       "      <td>9.600000</td>\n",
       "      <td>0.000000</td>\n",
       "    </tr>\n",
       "    <tr>\n",
       "      <th>max</th>\n",
       "      <td>10.670000</td>\n",
       "      <td>0.874000</td>\n",
       "      <td>251.700000</td>\n",
       "      <td>46.400000</td>\n",
       "      <td>77.000000</td>\n",
       "    </tr>\n",
       "  </tbody>\n",
       "</table>\n",
       "</div>"
      ],
      "text/plain": [
       "       Global_active_power  Global_reactive_power        Voltage  \\\n",
       "count        137504.000000          137504.000000  137504.000000   \n",
       "mean              1.497897               0.121903     240.787739   \n",
       "std               1.330325               0.114189       3.302877   \n",
       "min               0.194000               0.000000     223.490000   \n",
       "25%               0.334000               0.000000     238.670000   \n",
       "50%               1.328000               0.108000     241.020000   \n",
       "75%               2.310000               0.188000     243.070000   \n",
       "max              10.670000               0.874000     251.700000   \n",
       "\n",
       "       Global_intensity  Sub_metering_1  \n",
       "count     137504.000000   137504.000000  \n",
       "mean           6.332201        1.277752  \n",
       "std            5.617184        6.573751  \n",
       "min            0.800000        0.000000  \n",
       "25%            1.400000        0.000000  \n",
       "50%            5.400000        0.000000  \n",
       "75%            9.600000        0.000000  \n",
       "max           46.400000       77.000000  "
      ]
     },
     "execution_count": 41,
     "metadata": {},
     "output_type": "execute_result"
    }
   ],
   "source": [
    "df.describe()"
   ]
  },
  {
   "cell_type": "code",
   "execution_count": 42,
   "metadata": {},
   "outputs": [
    {
     "data": {
      "text/plain": [
       "Global_active_power      8\n",
       "Global_reactive_power    8\n",
       "Voltage                  8\n",
       "Global_intensity         8\n",
       "Sub_metering_1           8\n",
       "dtype: int64"
      ]
     },
     "execution_count": 42,
     "metadata": {},
     "output_type": "execute_result"
    }
   ],
   "source": [
    "df.isna().sum() "
   ]
  },
  {
   "cell_type": "code",
   "execution_count": 43,
   "metadata": {},
   "outputs": [],
   "source": [
    "df.dropna(inplace=True)"
   ]
  },
  {
   "cell_type": "code",
   "execution_count": 44,
   "metadata": {},
   "outputs": [
    {
     "data": {
      "text/plain": [
       "Global_active_power      0\n",
       "Global_reactive_power    0\n",
       "Voltage                  0\n",
       "Global_intensity         0\n",
       "Sub_metering_1           0\n",
       "dtype: int64"
      ]
     },
     "execution_count": 44,
     "metadata": {},
     "output_type": "execute_result"
    }
   ],
   "source": [
    "df.isna().sum() "
   ]
  }
 ],
 "metadata": {
  "kernelspec": {
   "display_name": "Python 3 (ipykernel)",
   "language": "python",
   "name": "python3"
  },
  "language_info": {
   "codemirror_mode": {
    "name": "ipython",
    "version": 3
   },
   "file_extension": ".py",
   "mimetype": "text/x-python",
   "name": "python",
   "nbconvert_exporter": "python",
   "pygments_lexer": "ipython3",
   "version": "3.10.9"
  }
 },
 "nbformat": 4,
 "nbformat_minor": 4
}
